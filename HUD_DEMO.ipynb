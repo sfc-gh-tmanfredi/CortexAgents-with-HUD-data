{
 "metadata": {
  "kernelspec": {
   "display_name": "Streamlit Notebook",
   "name": "streamlit"
  },
  "lastEditStatus": {
   "notebookId": "zunhuykrsxfgenzx7wor",
   "authorId": "67158795500",
   "authorName": "TMANFREDI",
   "authorEmail": "tom.manfredi@snowflake.com",
   "sessionId": "422c08a1-c3c0-4342-8168-d0674d3a47cb",
   "lastEditTime": 1760565777201
  }
 },
 "nbformat_minor": 5,
 "nbformat": 4,
 "cells": [
  {
   "cell_type": "code",
   "id": "3775908f-ca36-4846-8f38-5adca39217f2",
   "metadata": {
    "language": "sql",
    "name": "cell1"
   },
   "source": "use role ACCOUNTADMIN;",
   "execution_count": null,
   "outputs": []
  },
  {
   "cell_type": "code",
   "id": "b93f6b8c-31c7-46f9-be0c-62c3463a64bb",
   "metadata": {
    "language": "sql",
    "name": "cell6"
   },
   "outputs": [],
   "source": "create or replace database HUD_DEMO;\nCREATE STAGE docstage\n  ENCRYPTION = (TYPE = 'SNOWFLAKE_SSE')\n  DIRECTORY=(ENABLE=true);",
   "execution_count": null
  },
  {
   "cell_type": "code",
   "id": "7b2301a4-c5cd-40be-a5c6-cf84a59ab856",
   "metadata": {
    "language": "sql",
    "name": "cell13"
   },
   "outputs": [],
   "source": "drop database if exists HUD_HOUSINGFORECASTBYZIPCODE;",
   "execution_count": null
  },
  {
   "cell_type": "markdown",
   "id": "009aa5f5-2e66-47e5-ab89-c3750d429faf",
   "metadata": {
    "name": "cell18",
    "collapsed": false
   },
   "source": "### Access Snowflake Marketplace and search for the listing:  ***US Housing Forecast by Zip Code | 2010 - 2035***\n### \"Get\" the listing and name the database \"HUD_HOUSINGFORECASTBYZIPCODE\""
  },
  {
   "cell_type": "code",
   "id": "e3fd168d-29c2-4aff-90d2-15b068c4e2fc",
   "metadata": {
    "language": "sql",
    "name": "cell19"
   },
   "outputs": [],
   "source": "use role ACCOUNTADMIN;\nuse database HUD_HOUSINGFORECASTBYZIPCDE;\nuse schema ATERIO_DATASHEET_DEV;",
   "execution_count": null
  },
  {
   "cell_type": "markdown",
   "id": "ebb9b6e4-f471-431c-9cfc-1bf1c5dc7b58",
   "metadata": {
    "name": "cell8",
    "collapsed": false
   },
   "source": "### Look at the data we accessed thru Marketplace"
  },
  {
   "cell_type": "code",
   "id": "29ec6b41-fd5a-4919-8820-f68d4dc31df0",
   "metadata": {
    "language": "sql",
    "name": "cell9"
   },
   "outputs": [],
   "source": "select * from US_HOUSING_FORECAST_ZIPCODE limit 10;",
   "execution_count": null
  },
  {
   "cell_type": "markdown",
   "id": "2c93fc76-10aa-47a9-9128-9e8d835cb37f",
   "metadata": {
    "name": "cell20",
    "collapsed": false
   },
   "source": ""
  },
  {
   "cell_type": "code",
   "id": "01a2d057-f065-4981-a171-9a016dbeb29c",
   "metadata": {
    "language": "python",
    "name": "cell12",
    "collapsed": false,
    "codeCollapsed": true
   },
   "outputs": [],
   "source": "import streamlit as st\nst.image(\"HUDDemoArch.png\")",
   "execution_count": null
  },
  {
   "cell_type": "code",
   "id": "039f7b7e-acff-4bf9-bd16-23d281836cbe",
   "metadata": {
    "language": "python",
    "name": "cell11"
   },
   "outputs": [],
   "source": "",
   "execution_count": null
  },
  {
   "cell_type": "code",
   "id": "c695373e-ac74-4b62-a1f1-08206cbd5c81",
   "metadata": {
    "language": "python",
    "name": "cell3"
   },
   "source": "from snowflake.snowpark.context import get_active_session\nimport snowflake.snowpark.functions as F\nfrom snowflake.snowpark.functions import col\nimport streamlit as st\nimport altair as alt\nsession = get_active_session()\n\ndf_housing_forecast = session.table('US_HOUSING_FORECAST_ZIPCODE')\n",
   "execution_count": null,
   "outputs": []
  },
  {
   "cell_type": "code",
   "id": "3fbfcc65-c68d-4057-b4a0-5bd3f0f3fbf1",
   "metadata": {
    "language": "python",
    "name": "cell2"
   },
   "outputs": [],
   "source": "df_housing_forecast.show()",
   "execution_count": null
  },
  {
   "cell_type": "code",
   "id": "707f2b0c-b0d4-495f-a50b-c5e170f69a81",
   "metadata": {
    "language": "sql",
    "name": "cell5"
   },
   "outputs": [],
   "source": "use schema tmanfredi.HUD;\ncreate or replace table US_HOUSING_FORECAST_ZIPCODE as \nselect * from HUD_HOUSINGFORECASTBYZIPCODE.ATERIO_DATASHEET_DEV.US_HOUSING_FORECAST_ZIPCODE;",
   "execution_count": null
  },
  {
   "cell_type": "markdown",
   "id": "a4a7298e-c59c-40e1-86fa-99f14399bd00",
   "metadata": {
    "name": "cell16",
    "collapsed": false
   },
   "source": "### Build the RAG pipeline for unstructured documents"
  },
  {
   "cell_type": "code",
   "id": "41db0f7b-4d54-46d1-b3d5-186cb43bbe0f",
   "metadata": {
    "language": "sql",
    "name": "cell15"
   },
   "outputs": [],
   "source": "create or replace CORTEX SEARCH SERVICE GPRag_Service\nON chunk\n\nwarehouse = COMPUTE_WH\nTARGET_LAG = '1 minute'\nas (\n    select chunk,\n        filename,\n        file_url\n    from DOC_CHUNKS_TABLE\n);",
   "execution_count": null
  },
  {
   "cell_type": "code",
   "id": "6d56ba24-48e0-4c5b-a4a9-68f9d96290f8",
   "metadata": {
    "language": "sql",
    "name": "cell14"
   },
   "outputs": [],
   "source": "create or replace task process_new_files \n    warehouse = COMPUTE_WH\n    schedule = '1 minutes'\n    when system$stream_has_data('new_doc_stream')\n    as\n        BEGIN\n            CREATE OR REPLACE TEMPORARY TABLE PARSED_DOCUMENTS AS\n            SELECT \n                RELATIVE_PATH AS FILENAME,\n                FILE_URL,\n                SIZE,\n                LAST_MODIFIED,\n                TO_VARCHAR (\n                    SNOWFLAKE.CORTEX.PARSE_DOCUMENT(\n                        '@AllDocs',\n                         relative_path,\n                         {'mode': 'layout'}\n                    )\n                ) AS PARSED_CONTENT\n            FROM \n                DIRECTORY(@AllDocs) \n            WHERE FILENAME IN (SELECT RELATIVE_PATH FROM new_doc_stream); -- for new documents only\n                \n            INSERT INTO DOC_CHUNKS_TABLE\n               select filename, \n                    size,\n                    file_url, \n                    to_varchar(c.value) as chunk \n               from PARSED_DOCUMENTS,\n                   LATERAL FLATTEN( input => SNOWFLAKE.CORTEX.SPLIT_TEXT_RECURSIVE_CHARACTER (\n                   PARSED_CONTENT,\n                  'markdown',\n                  1512, -- Chunk size\n                  256 -- Overlap\n               )) c;\n                \n        END;\n\n\ncreate or replace stream new_doc_stream on stage AllDocs;\nalter task process_new_files  resume;",
   "execution_count": null
  },
  {
   "cell_type": "markdown",
   "id": "242d3b84-4ac7-4064-a0f3-fa746f72bf60",
   "metadata": {
    "name": "cell4",
    "collapsed": false
   },
   "source": "### Download the PDF from the HUD website here: https://www.huduser.gov/portal/publications/pdf/National-CHMA-24.pdf\n\n### Then upload to docstage in HUD_DEMO.PUBLIC\n"
  }
 ]
}