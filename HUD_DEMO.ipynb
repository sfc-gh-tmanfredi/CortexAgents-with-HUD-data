{
 "metadata": {
  "kernelspec": {
   "display_name": "Streamlit Notebook",
   "name": "streamlit"
  },
  "lastEditStatus": {
   "notebookId": "zunhuykrsxfgenzx7wor",
   "authorId": "67158795500",
   "authorName": "TMANFREDI",
   "authorEmail": "tom.manfredi@snowflake.com",
   "sessionId": "f03ed6df-b5c6-4fd3-a209-a78f8020ae7f",
   "lastEditTime": 1760969359992
  }
 },
 "nbformat_minor": 5,
 "nbformat": 4,
 "cells": [
  {
   "cell_type": "code",
   "id": "3775908f-ca36-4846-8f38-5adca39217f2",
   "metadata": {
    "language": "sql",
    "name": "cell1"
   },
   "source": "use role ACCOUNTADMIN;",
   "execution_count": null,
   "outputs": []
  },
  {
   "cell_type": "code",
   "id": "b93f6b8c-31c7-46f9-be0c-62c3463a64bb",
   "metadata": {
    "language": "sql",
    "name": "cell6"
   },
   "outputs": [],
   "source": "create or replace database HUD_DEMO;\nCREATE STAGE docstage\n  ENCRYPTION = (TYPE = 'SNOWFLAKE_SSE')\n  DIRECTORY=(ENABLE=true);",
   "execution_count": null
  },
  {
   "cell_type": "code",
   "id": "7b2301a4-c5cd-40be-a5c6-cf84a59ab856",
   "metadata": {
    "language": "sql",
    "name": "cell13"
   },
   "outputs": [],
   "source": "drop database if exists HUD_HOUSINGFORECASTBYZIPCODE;",
   "execution_count": null
  },
  {
   "cell_type": "markdown",
   "id": "009aa5f5-2e66-47e5-ab89-c3750d429faf",
   "metadata": {
    "name": "cell18",
    "collapsed": false
   },
   "source": "### Access Snowflake Marketplace and search for the listing:  ***US Housing Forecast by Zip Code | 2010 - 2035***\n### \"Get\" the listing and name the database \"HUD_HOUSINGFORECASTBYZIPCODE\""
  },
  {
   "cell_type": "code",
   "id": "e3fd168d-29c2-4aff-90d2-15b068c4e2fc",
   "metadata": {
    "language": "sql",
    "name": "cell19"
   },
   "outputs": [],
   "source": "use role ACCOUNTADMIN;\nuse database HUD_HOUSINGFORECASTBYZIPCODE;\nuse schema ATERIO_DATASHEET_DEV;",
   "execution_count": null
  },
  {
   "cell_type": "markdown",
   "id": "8ad578be-5928-4aa0-a057-8117e6da5f6a",
   "metadata": {
    "name": "cell27",
    "collapsed": false
   },
   "source": "### This demo uses some of Snowflake's latest innovations to illustrate how easily data (both structured and unstructured) can be assembled from external sources and used to provide insights by state-of-the-art agentic tools.\n\nSpecific technologies that will be highlighed include:\n\n- Snowflake Intelligence\n- Cortex Agents\n- Cortex Search (with PARSE_DOCUMENT and SPLIT_TEXT_RECURSIVE_CHARACTER functions)\n- Cortex Analyst\n- Semantic Views\n- Snowflake Marketplace"
  },
  {
   "cell_type": "code",
   "id": "01a2d057-f065-4981-a171-9a016dbeb29c",
   "metadata": {
    "language": "python",
    "name": "cell12",
    "collapsed": false,
    "codeCollapsed": true
   },
   "outputs": [],
   "source": "import streamlit as st\nst.image(\"HUDDemoArch.png\")",
   "execution_count": null
  },
  {
   "cell_type": "markdown",
   "id": "ebb9b6e4-f471-431c-9cfc-1bf1c5dc7b58",
   "metadata": {
    "name": "cell8",
    "collapsed": false
   },
   "source": "### Look at the data we accessed thru Marketplace"
  },
  {
   "cell_type": "code",
   "id": "29ec6b41-fd5a-4919-8820-f68d4dc31df0",
   "metadata": {
    "language": "sql",
    "name": "cell9"
   },
   "outputs": [],
   "source": "select * from US_HOUSING_FORECAST_ZIPCODE limit 10;",
   "execution_count": null
  },
  {
   "cell_type": "markdown",
   "id": "2c93fc76-10aa-47a9-9128-9e8d835cb37f",
   "metadata": {
    "name": "cell20",
    "collapsed": false
   },
   "source": ""
  },
  {
   "cell_type": "code",
   "id": "039f7b7e-acff-4bf9-bd16-23d281836cbe",
   "metadata": {
    "language": "sql",
    "name": "cell11"
   },
   "outputs": [],
   "source": "use schema HUD_DEMO.PUBLIC;",
   "execution_count": null
  },
  {
   "cell_type": "markdown",
   "id": "01adfe02-51c4-4307-8b07-feb11eed95bc",
   "metadata": {
    "name": "cell17",
    "collapsed": false
   },
   "source": "### To create the Semantic View, we want a copy of the source table in a writable schema"
  },
  {
   "cell_type": "code",
   "id": "707f2b0c-b0d4-495f-a50b-c5e170f69a81",
   "metadata": {
    "language": "sql",
    "name": "cell5"
   },
   "outputs": [],
   "source": "create or replace table US_HOUSING_FORECAST_ZIPCODE as \nselect * from HUD_HOUSINGFORECASTBYZIPCODE.ATERIO_DATASHEET_DEV.US_HOUSING_FORECAST_ZIPCODE;",
   "execution_count": null
  },
  {
   "cell_type": "markdown",
   "id": "a4a7298e-c59c-40e1-86fa-99f14399bd00",
   "metadata": {
    "name": "cell16",
    "collapsed": false
   },
   "source": "### Build the RAG pipeline for unstructured documents"
  },
  {
   "cell_type": "code",
   "id": "d480bf1d-6f48-4403-8654-86c357205cc3",
   "metadata": {
    "language": "sql",
    "name": "cell10"
   },
   "outputs": [],
   "source": "create or replace TABLE HUD_DEMO.PUBLIC.DOC_CHUNKS_TABLE (\n\tFILENAME VARCHAR(16777216),\n\tSIZE NUMBER(38,0),\n\tFILE_URL VARCHAR(16777216),\n\tCHUNK VARCHAR(16777216)\n);",
   "execution_count": null
  },
  {
   "cell_type": "code",
   "id": "41db0f7b-4d54-46d1-b3d5-186cb43bbe0f",
   "metadata": {
    "language": "sql",
    "name": "cell15"
   },
   "outputs": [],
   "source": "create or replace CORTEX SEARCH SERVICE GPRag_Service\nON chunk\n\nwarehouse = COMPUTE_WH\nTARGET_LAG = '1 minute'\nas (\n    select chunk,\n        filename,\n        file_url\n    from DOC_CHUNKS_TABLE\n);",
   "execution_count": null
  },
  {
   "cell_type": "code",
   "id": "6d56ba24-48e0-4c5b-a4a9-68f9d96290f8",
   "metadata": {
    "language": "sql",
    "name": "cell14"
   },
   "outputs": [],
   "source": "create or replace task process_new_files \n    warehouse = COMPUTE_WH\n    schedule = '1 minutes'\n    when system$stream_has_data('new_doc_stream')\n    as\n        BEGIN\n            CREATE OR REPLACE TEMPORARY TABLE PARSED_DOCUMENTS AS\n            SELECT \n                RELATIVE_PATH AS FILENAME,\n                FILE_URL,\n                SIZE,\n                LAST_MODIFIED,\n                TO_VARCHAR (\n                    SNOWFLAKE.CORTEX.PARSE_DOCUMENT(\n                        '@DocStage',\n                         relative_path,\n                         {'mode': 'layout'}\n                    )\n                ) AS PARSED_CONTENT\n            FROM \n                DIRECTORY(@DocStage) \n            WHERE FILENAME IN (SELECT RELATIVE_PATH FROM new_doc_stream); -- for new documents only\n                \n            INSERT INTO DOC_CHUNKS_TABLE\n               select filename, \n                    size,\n                    file_url, \n                    to_varchar(c.value) as chunk \n               from PARSED_DOCUMENTS,\n                   LATERAL FLATTEN( input => SNOWFLAKE.CORTEX.SPLIT_TEXT_RECURSIVE_CHARACTER (\n                   PARSED_CONTENT,\n                  'markdown',\n                  1512, -- Chunk size\n                  256 -- Overlap\n               )) c;\n                \n        END;\n\n\ncreate or replace stream new_doc_stream on stage DocStage;\nalter task process_new_files  resume;",
   "execution_count": null
  },
  {
   "cell_type": "markdown",
   "id": "242d3b84-4ac7-4064-a0f3-fa746f72bf60",
   "metadata": {
    "name": "cell4",
    "collapsed": false
   },
   "source": "### Download the PDF from the HUD website here: https://www.huduser.gov/portal/publications/pdf/National-CHMA-24.pdf\n\n### Then upload to docstage in HUD_DEMO.PUBLIC\n"
  },
  {
   "cell_type": "markdown",
   "id": "e739edbd-1f58-4e66-8003-8df27b1717af",
   "metadata": {
    "name": "cell7",
    "collapsed": false
   },
   "source": "### Wait a couple minutes for the task to chunk it up and add to the Cortex Search service"
  },
  {
   "cell_type": "code",
   "id": "02436ed4-22db-46ba-8e58-15b0224b4b6f",
   "metadata": {
    "language": "sql",
    "name": "cell3"
   },
   "outputs": [],
   "source": "select * from DIRECTORY(@DocStage) ;",
   "execution_count": null
  },
  {
   "cell_type": "code",
   "id": "346d58e0-e23b-4915-8f48-9fa4c44c4bcc",
   "metadata": {
    "language": "sql",
    "name": "cell2"
   },
   "outputs": [],
   "source": "select * from DOC_CHUNKS_TABLE limit 10;",
   "execution_count": null
  },
  {
   "cell_type": "code",
   "id": "402a595c-fdf9-4425-bda5-9e2b0a77d389",
   "metadata": {
    "language": "sql",
    "name": "CortexSearchPreview"
   },
   "outputs": [],
   "source": "SELECT\n  SNOWFLAKE.CORTEX.SEARCH_PREVIEW (\n      'GPRag_Service',\n      '{\n          \"query\": \"What are the major factors impacting the US housing market in 2024 ?\",\n          \"columns\": [\"FILENAME\", \"chunk\"],\n          \"limit\": 3\n      }'\n  ) as cs_context\n  LIMIT 3;",
   "execution_count": null
  },
  {
   "cell_type": "code",
   "id": "ecad7b38-2018-4c9d-a1ca-e687b439f327",
   "metadata": {
    "language": "sql",
    "name": "cell21"
   },
   "outputs": [],
   "source": "select SNOWFLAKE.CORTEX.COMPLETE('mistral-large',concat('What are the major factors impacting the US housing market in 2024',cs_context)) \nFROM {{CortexSearchPreview}};",
   "execution_count": null
  },
  {
   "cell_type": "markdown",
   "id": "32db433f-3b6c-479f-a343-c490acacadfe",
   "metadata": {
    "name": "cell22",
    "collapsed": false
   },
   "source": "### Now, lets create a Semantic View so we can use Cortex Analyst against the data set we got from Marketplace.  We will do this through the UI (AI & ML -> Cortex Analyst), but the object that gets created looks like this: "
  },
  {
   "cell_type": "code",
   "id": "fa3e5b99-de5e-4e10-be1a-8a8ab58af3bf",
   "metadata": {
    "language": "sql",
    "name": "cell24"
   },
   "outputs": [],
   "source": "",
   "execution_count": null
  },
  {
   "cell_type": "code",
   "id": "675ce530-1f57-4da9-9266-395f5d755f85",
   "metadata": {
    "language": "sql",
    "name": "cell23"
   },
   "outputs": [],
   "source": "create or replace semantic view HUD_DEMO.PUBLIC.HUD_US_HOUSING_FORECAST_BY_ZIPCODE\n\ttables (\n\t\tUS_HOUSING_FORECAST_ZIPCODE comment='This table stores historical and forecasted data on the US housing market at the zip code level, including metrics such as total homes available, building permits, average people per home, estimated total home demand, and vacancy rates, as well as demographic information like owner-occupied and renter-occupied housing units, to provide insights into the supply and demand dynamics of the US housing market.'\n\t)\n\tfacts (\n\t\tUS_HOUSING_FORECAST_ZIPCODE.AVG_PEOPLE_PER_HOME as AVG_PEOPLE_PER_HOME comment='The average number of people residing in a single-family home within a specific zip code area.',\n\t\tUS_HOUSING_FORECAST_ZIPCODE.EST_TOTAL_HOME_DEMAND_2030 as EST_TOTAL_HOME_DEMAND_2030 comment='Estimated total home demand in the year 2030 for a specific zip code area.',\n\t\tUS_HOUSING_FORECAST_ZIPCODE.IDX_DEMAND_SUPPLY as IDX_DEMAND_SUPPLY comment='The IDX_DEMAND_SUPPLY column represents the ratio of demand to supply in the housing market for a specific zip code, indicating the balance between the number of potential buyers and the number of available homes for sale.',\n\t\tUS_HOUSING_FORECAST_ZIPCODE.RT_BUILDING_PERMIT_YOY_2022_2021 as RT_BUILDING_PERMIT_YOY_2022_2021 comment='Year-over-year percentage change in building permits issued in 2022 compared to 2021.',\n\t\tUS_HOUSING_FORECAST_ZIPCODE.RT_VACANCY as RT_VACANCY comment='The percentage of vacant homes in a given zip code area.',\n\t\tUS_HOUSING_FORECAST_ZIPCODE.RT_VACANCY_RENTAL as RT_VACANCY_RENTAL comment='The percentage of rental properties in a given zip code that are currently vacant and available for rent.',\n\t\tUS_HOUSING_FORECAST_ZIPCODE.TOT_BALANCE_INVENTORY as TOT_BALANCE_INVENTORY comment='Total balance of housing inventory, representing the total value of unsold homes in a given zip code, with negative values indicating a shortage of inventory and positive values indicating a surplus.'\n\t)\n\tdimensions (\n\t\tUS_HOUSING_FORECAST_ZIPCODE.CITY_NAME as CITY_NAME comment='The name of the city within the United States where the housing forecast data is being tracked.',\n\t\tUS_HOUSING_FORECAST_ZIPCODE.COUNTY_FIPS_CODE as COUNTY_FIPS_CODE comment='A unique identifier for the county in which the zip code is located, as assigned by the US Census Bureau''s Federal Information Processing Standard (FIPS) publication.',\n\t\tUS_HOUSING_FORECAST_ZIPCODE.COUNTY_NAME as COUNTY_NAME comment='The county in which the zip code is located.',\n\t\tUS_HOUSING_FORECAST_ZIPCODE.LBL_LATEST_HOUSING_YEAR_DATA as LBL_LATEST_HOUSING_YEAR_DATA comment='The year for which the latest housing data is available for a specific zip code.',\n\t\tUS_HOUSING_FORECAST_ZIPCODE.STATE_CODE as STATE_CODE comment='The two-character code representing the state in the United States where the zip code is located.',\n\t\tUS_HOUSING_FORECAST_ZIPCODE.TOT_FX_CONSTRUCTION_5Y as TOT_FX_CONSTRUCTION_5Y comment='Total forecasted construction value for the next 5 years.',\n\t\tUS_HOUSING_FORECAST_ZIPCODE.TOT_HOME_AVAILABLE_2020 as TOT_HOME_AVAILABLE_2020 comment='Total number of homes available in a specific zip code area as of 2020.',\n\t\tUS_HOUSING_FORECAST_ZIPCODE.TOT_HOME_AVAILABLE_2021 as TOT_HOME_AVAILABLE_2021 comment='Total number of homes available in a specific zip code area as of 2021.',\n\t\tUS_HOUSING_FORECAST_ZIPCODE.TOT_HOUSING_UNIT as TOT_HOUSING_UNIT comment='Total number of housing units in a given zip code area.',\n\t\tUS_HOUSING_FORECAST_ZIPCODE.TOT_OWNER_OCCUPIED_HOUSING_UNIT as TOT_OWNER_OCCUPIED_HOUSING_UNIT comment='Total number of housing units that are occupied by their owners in a given zip code.',\n\t\tUS_HOUSING_FORECAST_ZIPCODE.TOT_RENTER_OCCUPIED_HOUSING_UNIT as TOT_RENTER_OCCUPIED_HOUSING_UNIT comment='Total number of renter-occupied housing units in a given zip code.',\n\t\tUS_HOUSING_FORECAST_ZIPCODE.UPDATED_AT as UPDATED_AT comment='The date and time when the housing forecast data for the specific zipcode was last updated.',\n\t\tUS_HOUSING_FORECAST_ZIPCODE.ZIP_CODE as ZIP_CODE comment='The five-digit code that identifies a specific geographic area in the United States, used to organize and route mail, and also serves as a unique identifier for analyzing housing market trends and forecasts at a local level.'\n\t)\n\tcomment='This view has housing data for Oregon and Washington'\n\twith extension (CA='{\"tables\":[{\"name\":\"US_HOUSING_FORECAST_ZIPCODE\",\"dimensions\":[{\"name\":\"CITY_NAME\",\"sample_values\":[\"Edwall\",\"Springfield\",\"Bridal Veil\"]},{\"name\":\"COUNTY_FIPS_CODE\",\"sample_values\":[\"41035\",\"53053\",\"53043\"]},{\"name\":\"COUNTY_NAME\",\"sample_values\":[\"Jackson County\",\"Multnomah County\",\"Klamath County\"]},{\"name\":\"LBL_LATEST_HOUSING_YEAR_DATA\",\"sample_values\":[\"2021\"]},{\"name\":\"STATE_CODE\",\"sample_values\":[\"WA\",\"OR\"]},{\"name\":\"TOT_FX_CONSTRUCTION_5Y\"},{\"name\":\"TOT_HOME_AVAILABLE_2020\",\"sample_values\":[\"393\",\"420\",\"13320\"]},{\"name\":\"TOT_HOME_AVAILABLE_2021\",\"sample_values\":[\"2414\",\"2122\",\"1370\"]},{\"name\":\"TOT_HOUSING_UNIT\",\"sample_values\":[\"2414\",\"2122\",\"1370\"]},{\"name\":\"TOT_OWNER_OCCUPIED_HOUSING_UNIT\",\"sample_values\":[\"5455\",\"7471\",\"428\"]},{\"name\":\"TOT_RENTER_OCCUPIED_HOUSING_UNIT\",\"sample_values\":[\"934\",\"1383\",\"4729\"]},{\"name\":\"ZIP_CODE\",\"sample_values\":[\"98354\",\"97520\",\"97357\"]}],\"facts\":[{\"name\":\"AVG_PEOPLE_PER_HOME\",\"sample_values\":[\"3.186047\",\"2.484316\",\"2.062500\"]},{\"name\":\"EST_TOTAL_HOME_DEMAND_2030\",\"sample_values\":[\"138.801289\",\"14477.253784\",\"111.797927\"]},{\"name\":\"IDX_DEMAND_SUPPLY\",\"sample_values\":[\"42.15070390\",\"30.75087382\",\"74.50038856\"]},{\"name\":\"RT_BUILDING_PERMIT_YOY_2022_2021\",\"sample_values\":[\"-0.27595884\",\"0.13333333\",\"-0.32957111\"]},{\"name\":\"RT_VACANCY\",\"sample_values\":[\"0.04000600\",\"0.18290400\",\"0.09784200\"]},{\"name\":\"RT_VACANCY_RENTAL\",\"sample_values\":[\"0.08600000\",\"0.07400000\",\"0.02500000\"]},{\"name\":\"TOT_BALANCE_INVENTORY\",\"sample_values\":[\"-1.569349\",\"87.486628\",\"755.152345\"]}],\"time_dimensions\":[{\"name\":\"UPDATED_AT\",\"sample_values\":[\"2024-02-27T20:23:28.638+0000\"]}]}]}');",
   "execution_count": null
  },
  {
   "cell_type": "markdown",
   "id": "68e8494c-ded1-47c2-89a3-5f9dab25799e",
   "metadata": {
    "name": "cell25",
    "collapsed": false
   },
   "source": "We now have two defined \"tools\" that will be defined to an Agent that we create.  These are visible in HUD_DEMO.PUBLIC\n\n1. HUD_US_HOUSING_FORECAST_BY_ZIPCODE (Semantic View used by Cortex Analyst)\n2. GPRAG_SERVICE (Cortex Search Service)"
  },
  {
   "cell_type": "markdown",
   "id": "c98f460b-b176-4462-9fdf-9a55ede7caec",
   "metadata": {
    "name": "cell26",
    "collapsed": false
   },
   "source": "1. Click **AI & ML -> Agents**\n2. Click **Create Agent**. Call the new agent **US_HUD_AGENT**.  Check the box labeled \"Create this agent for\nSnowflake Intelligence\"\n3. Add a description (\"Handy agent allowing you to ask questions of HUD data and documents\")\n4. Click the Tools tab \n- Add a Cortex Analyst service\n- Add a Cortex Search service "
  }
 ]
}